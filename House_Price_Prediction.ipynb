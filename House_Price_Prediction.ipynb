{
  "nbformat": 4,
  "nbformat_minor": 0,
  "metadata": {
    "colab": {
      "provenance": []
    },
    "kernelspec": {
      "name": "python3",
      "display_name": "Python 3"
    },
    "language_info": {
      "name": "python"
    }
  },
  "cells": [
    {
      "cell_type": "code",
      "execution_count": null,
      "metadata": {
        "id": "ukgPOEiST3sC"
      },
      "outputs": [],
      "source": []
    },
    {
      "cell_type": "markdown",
      "metadata": {
        "id": "8a7e858f"
      },
      "source": [
        "# Task\n",
        "Predict house prices using Linear Regression and Random Forest models on the Boston Housing Dataset, evaluate their performance, and compare the results."
      ]
    },
    {
      "cell_type": "markdown",
      "metadata": {
        "id": "681c5238"
      },
      "source": [
        "## Load data\n",
        "\n",
        "### Subtask:\n",
        "Load the Boston Housing Dataset from scikit-learn.\n"
      ]
    },
    {
      "cell_type": "markdown",
      "metadata": {
        "id": "f7a39e2a"
      },
      "source": [
        "**Reasoning**:\n",
        "Import the necessary function and load the Boston Housing dataset into a variable.\n",
        "\n"
      ]
    },
    {
      "cell_type": "code",
      "metadata": {
        "colab": {
          "base_uri": "https://localhost:8080/",
          "height": 1000
        },
        "id": "dc8f8586",
        "outputId": "4a526a68-1c86-4b90-9881-a9a64edd6679"
      },
      "source": [
        "from sklearn.datasets import load_boston\n",
        "\n",
        "boston = load_boston()"
      ],
      "execution_count": 1,
      "outputs": [
        {
          "output_type": "error",
          "ename": "ImportError",
          "evalue": "\n`load_boston` has been removed from scikit-learn since version 1.2.\n\nThe Boston housing prices dataset has an ethical problem: as\ninvestigated in [1], the authors of this dataset engineered a\nnon-invertible variable \"B\" assuming that racial self-segregation had a\npositive impact on house prices [2]. Furthermore the goal of the\nresearch that led to the creation of this dataset was to study the\nimpact of air quality but it did not give adequate demonstration of the\nvalidity of this assumption.\n\nThe scikit-learn maintainers therefore strongly discourage the use of\nthis dataset unless the purpose of the code is to study and educate\nabout ethical issues in data science and machine learning.\n\nIn this special case, you can fetch the dataset from the original\nsource::\n\n    import pandas as pd\n    import numpy as np\n\n    data_url = \"http://lib.stat.cmu.edu/datasets/boston\"\n    raw_df = pd.read_csv(data_url, sep=\"\\s+\", skiprows=22, header=None)\n    data = np.hstack([raw_df.values[::2, :], raw_df.values[1::2, :2]])\n    target = raw_df.values[1::2, 2]\n\nAlternative datasets include the California housing dataset and the\nAmes housing dataset. You can load the datasets as follows::\n\n    from sklearn.datasets import fetch_california_housing\n    housing = fetch_california_housing()\n\nfor the California housing dataset and::\n\n    from sklearn.datasets import fetch_openml\n    housing = fetch_openml(name=\"house_prices\", as_frame=True)\n\nfor the Ames housing dataset.\n\n[1] M Carlisle.\n\"Racist data destruction?\"\n<https://medium.com/@docintangible/racist-data-destruction-113e3eff54a8>\n\n[2] Harrison Jr, David, and Daniel L. Rubinfeld.\n\"Hedonic housing prices and the demand for clean air.\"\nJournal of environmental economics and management 5.1 (1978): 81-102.\n<https://www.researchgate.net/publication/4974606_Hedonic_housing_prices_and_the_demand_for_clean_air>\n",
          "traceback": [
            "\u001b[0;31m---------------------------------------------------------------------------\u001b[0m",
            "\u001b[0;31mImportError\u001b[0m                               Traceback (most recent call last)",
            "\u001b[0;32m/tmp/ipython-input-1-2566597959.py\u001b[0m in \u001b[0;36m<cell line: 0>\u001b[0;34m()\u001b[0m\n\u001b[0;32m----> 1\u001b[0;31m \u001b[0;32mfrom\u001b[0m \u001b[0msklearn\u001b[0m\u001b[0;34m.\u001b[0m\u001b[0mdatasets\u001b[0m \u001b[0;32mimport\u001b[0m \u001b[0mload_boston\u001b[0m\u001b[0;34m\u001b[0m\u001b[0;34m\u001b[0m\u001b[0m\n\u001b[0m\u001b[1;32m      2\u001b[0m \u001b[0;34m\u001b[0m\u001b[0m\n\u001b[1;32m      3\u001b[0m \u001b[0mboston\u001b[0m \u001b[0;34m=\u001b[0m \u001b[0mload_boston\u001b[0m\u001b[0;34m(\u001b[0m\u001b[0;34m)\u001b[0m\u001b[0;34m\u001b[0m\u001b[0;34m\u001b[0m\u001b[0m\n",
            "\u001b[0;32m/usr/local/lib/python3.11/dist-packages/sklearn/datasets/__init__.py\u001b[0m in \u001b[0;36m__getattr__\u001b[0;34m(name)\u001b[0m\n\u001b[1;32m    159\u001b[0m             \"\"\"\n\u001b[1;32m    160\u001b[0m         )\n\u001b[0;32m--> 161\u001b[0;31m         \u001b[0;32mraise\u001b[0m \u001b[0mImportError\u001b[0m\u001b[0;34m(\u001b[0m\u001b[0mmsg\u001b[0m\u001b[0;34m)\u001b[0m\u001b[0;34m\u001b[0m\u001b[0;34m\u001b[0m\u001b[0m\n\u001b[0m\u001b[1;32m    162\u001b[0m     \u001b[0;32mtry\u001b[0m\u001b[0;34m:\u001b[0m\u001b[0;34m\u001b[0m\u001b[0;34m\u001b[0m\u001b[0m\n\u001b[1;32m    163\u001b[0m         \u001b[0;32mreturn\u001b[0m \u001b[0mglobals\u001b[0m\u001b[0;34m(\u001b[0m\u001b[0;34m)\u001b[0m\u001b[0;34m[\u001b[0m\u001b[0mname\u001b[0m\u001b[0;34m]\u001b[0m\u001b[0;34m\u001b[0m\u001b[0;34m\u001b[0m\u001b[0m\n",
            "\u001b[0;31mImportError\u001b[0m: \n`load_boston` has been removed from scikit-learn since version 1.2.\n\nThe Boston housing prices dataset has an ethical problem: as\ninvestigated in [1], the authors of this dataset engineered a\nnon-invertible variable \"B\" assuming that racial self-segregation had a\npositive impact on house prices [2]. Furthermore the goal of the\nresearch that led to the creation of this dataset was to study the\nimpact of air quality but it did not give adequate demonstration of the\nvalidity of this assumption.\n\nThe scikit-learn maintainers therefore strongly discourage the use of\nthis dataset unless the purpose of the code is to study and educate\nabout ethical issues in data science and machine learning.\n\nIn this special case, you can fetch the dataset from the original\nsource::\n\n    import pandas as pd\n    import numpy as np\n\n    data_url = \"http://lib.stat.cmu.edu/datasets/boston\"\n    raw_df = pd.read_csv(data_url, sep=\"\\s+\", skiprows=22, header=None)\n    data = np.hstack([raw_df.values[::2, :], raw_df.values[1::2, :2]])\n    target = raw_df.values[1::2, 2]\n\nAlternative datasets include the California housing dataset and the\nAmes housing dataset. You can load the datasets as follows::\n\n    from sklearn.datasets import fetch_california_housing\n    housing = fetch_california_housing()\n\nfor the California housing dataset and::\n\n    from sklearn.datasets import fetch_openml\n    housing = fetch_openml(name=\"house_prices\", as_frame=True)\n\nfor the Ames housing dataset.\n\n[1] M Carlisle.\n\"Racist data destruction?\"\n<https://medium.com/@docintangible/racist-data-destruction-113e3eff54a8>\n\n[2] Harrison Jr, David, and Daniel L. Rubinfeld.\n\"Hedonic housing prices and the demand for clean air.\"\nJournal of environmental economics and management 5.1 (1978): 81-102.\n<https://www.researchgate.net/publication/4974606_Hedonic_housing_prices_and_the_demand_for_clean_air>\n",
            "",
            "\u001b[0;31m---------------------------------------------------------------------------\u001b[0;32m\nNOTE: If your import is failing due to a missing package, you can\nmanually install dependencies using either !pip or !apt.\n\nTo view examples of installing some common dependencies, click the\n\"Open Examples\" button below.\n\u001b[0;31m---------------------------------------------------------------------------\u001b[0m\n"
          ],
          "errorDetails": {
            "actions": [
              {
                "action": "open_url",
                "actionText": "Open Examples",
                "url": "/notebooks/snippets/importing_libraries.ipynb"
              }
            ]
          }
        }
      ]
    },
    {
      "cell_type": "markdown",
      "metadata": {
        "id": "0f6da816"
      },
      "source": [
        "**Reasoning**:\n",
        "The `load_boston` function has been removed. I will use the provided alternative method to fetch the Boston housing dataset from the original source using pandas and numpy.\n",
        "\n"
      ]
    },
    {
      "cell_type": "code",
      "metadata": {
        "id": "eCQvoMrFVBrR"
      },
      "source": [
        "import pandas as pd\n",
        "import numpy as np\n",
        "\n",
        "data_url = \"http://lib.stat.cmu.edu/datasets/boston\"\n",
        "raw_df = pd.read_csv(data_url, sep=\"\\s+\", skiprows=22, header=None)\n",
        "data = np.hstack([raw_df.values[::2, :], raw_df.values[1::2, :2]])\n",
        "target = raw_df.values[1::2, 2]\n",
        "\n",
        "boston = {\n",
        "    'data': data,\n",
        "    'target': target,\n",
        "    'feature_names': ['CRIM', 'ZN', 'INDUS', 'CHAS', 'NOX', 'RM', 'AGE', 'DIS', 'RAD', 'TAX', 'PTRATIO', 'B', 'LSTAT']\n",
        "}"
      ],
      "execution_count": 2,
      "outputs": []
    },
    {
      "cell_type": "markdown",
      "metadata": {
        "id": "07e51f78"
      },
      "source": [
        "## Preprocess data\n",
        "\n",
        "### Subtask:\n",
        "Split the data into training and testing sets.\n"
      ]
    },
    {
      "cell_type": "markdown",
      "metadata": {
        "id": "a032f19c"
      },
      "source": [
        "**Reasoning**:\n",
        "Split the data and target arrays into training and testing sets using train_test_split.\n",
        "\n"
      ]
    },
    {
      "cell_type": "code",
      "metadata": {
        "colab": {
          "base_uri": "https://localhost:8080/"
        },
        "id": "81758cae",
        "outputId": "9beadb6a-eeb5-42c1-d02a-dbd6e16945d2"
      },
      "source": [
        "from sklearn.model_selection import train_test_split\n",
        "\n",
        "X = boston['data']\n",
        "y = boston['target']\n",
        "\n",
        "X_train, X_test, y_train, y_test = train_test_split(X, y, test_size=0.2, random_state=42)\n",
        "\n",
        "print(X_train.shape)\n",
        "print(X_test.shape)\n",
        "print(y_train.shape)\n",
        "print(y_test.shape)"
      ],
      "execution_count": 3,
      "outputs": [
        {
          "output_type": "stream",
          "name": "stdout",
          "text": [
            "(404, 13)\n",
            "(102, 13)\n",
            "(404,)\n",
            "(102,)\n"
          ]
        }
      ]
    },
    {
      "cell_type": "markdown",
      "metadata": {
        "id": "0a779cd3"
      },
      "source": [
        "## Train models\n",
        "\n",
        "### Subtask:\n",
        "Train Linear Regression and Random Forest models on the training data.\n"
      ]
    },
    {
      "cell_type": "markdown",
      "metadata": {
        "id": "5dc385d2"
      },
      "source": [
        "**Reasoning**:\n",
        "Import the necessary modules for Linear Regression and Random Forest Regression, instantiate the models, and train them using the training data.\n",
        "\n"
      ]
    },
    {
      "cell_type": "code",
      "metadata": {
        "colab": {
          "base_uri": "https://localhost:8080/",
          "height": 80
        },
        "id": "13ee0d95",
        "outputId": "099f6043-1a15-43ba-c0da-3af94f35527f"
      },
      "source": [
        "from sklearn.linear_model import LinearRegression\n",
        "from sklearn.ensemble import RandomForestRegressor\n",
        "\n",
        "linear_reg_model = LinearRegression()\n",
        "rf_model = RandomForestRegressor(random_state=42) # Added random_state for reproducibility\n",
        "\n",
        "linear_reg_model.fit(X_train, y_train)\n",
        "rf_model.fit(X_train, y_train)"
      ],
      "execution_count": 4,
      "outputs": [
        {
          "output_type": "execute_result",
          "data": {
            "text/plain": [
              "RandomForestRegressor(random_state=42)"
            ],
            "text/html": [
              "<style>#sk-container-id-1 {\n",
              "  /* Definition of color scheme common for light and dark mode */\n",
              "  --sklearn-color-text: #000;\n",
              "  --sklearn-color-text-muted: #666;\n",
              "  --sklearn-color-line: gray;\n",
              "  /* Definition of color scheme for unfitted estimators */\n",
              "  --sklearn-color-unfitted-level-0: #fff5e6;\n",
              "  --sklearn-color-unfitted-level-1: #f6e4d2;\n",
              "  --sklearn-color-unfitted-level-2: #ffe0b3;\n",
              "  --sklearn-color-unfitted-level-3: chocolate;\n",
              "  /* Definition of color scheme for fitted estimators */\n",
              "  --sklearn-color-fitted-level-0: #f0f8ff;\n",
              "  --sklearn-color-fitted-level-1: #d4ebff;\n",
              "  --sklearn-color-fitted-level-2: #b3dbfd;\n",
              "  --sklearn-color-fitted-level-3: cornflowerblue;\n",
              "\n",
              "  /* Specific color for light theme */\n",
              "  --sklearn-color-text-on-default-background: var(--sg-text-color, var(--theme-code-foreground, var(--jp-content-font-color1, black)));\n",
              "  --sklearn-color-background: var(--sg-background-color, var(--theme-background, var(--jp-layout-color0, white)));\n",
              "  --sklearn-color-border-box: var(--sg-text-color, var(--theme-code-foreground, var(--jp-content-font-color1, black)));\n",
              "  --sklearn-color-icon: #696969;\n",
              "\n",
              "  @media (prefers-color-scheme: dark) {\n",
              "    /* Redefinition of color scheme for dark theme */\n",
              "    --sklearn-color-text-on-default-background: var(--sg-text-color, var(--theme-code-foreground, var(--jp-content-font-color1, white)));\n",
              "    --sklearn-color-background: var(--sg-background-color, var(--theme-background, var(--jp-layout-color0, #111)));\n",
              "    --sklearn-color-border-box: var(--sg-text-color, var(--theme-code-foreground, var(--jp-content-font-color1, white)));\n",
              "    --sklearn-color-icon: #878787;\n",
              "  }\n",
              "}\n",
              "\n",
              "#sk-container-id-1 {\n",
              "  color: var(--sklearn-color-text);\n",
              "}\n",
              "\n",
              "#sk-container-id-1 pre {\n",
              "  padding: 0;\n",
              "}\n",
              "\n",
              "#sk-container-id-1 input.sk-hidden--visually {\n",
              "  border: 0;\n",
              "  clip: rect(1px 1px 1px 1px);\n",
              "  clip: rect(1px, 1px, 1px, 1px);\n",
              "  height: 1px;\n",
              "  margin: -1px;\n",
              "  overflow: hidden;\n",
              "  padding: 0;\n",
              "  position: absolute;\n",
              "  width: 1px;\n",
              "}\n",
              "\n",
              "#sk-container-id-1 div.sk-dashed-wrapped {\n",
              "  border: 1px dashed var(--sklearn-color-line);\n",
              "  margin: 0 0.4em 0.5em 0.4em;\n",
              "  box-sizing: border-box;\n",
              "  padding-bottom: 0.4em;\n",
              "  background-color: var(--sklearn-color-background);\n",
              "}\n",
              "\n",
              "#sk-container-id-1 div.sk-container {\n",
              "  /* jupyter's `normalize.less` sets `[hidden] { display: none; }`\n",
              "     but bootstrap.min.css set `[hidden] { display: none !important; }`\n",
              "     so we also need the `!important` here to be able to override the\n",
              "     default hidden behavior on the sphinx rendered scikit-learn.org.\n",
              "     See: https://github.com/scikit-learn/scikit-learn/issues/21755 */\n",
              "  display: inline-block !important;\n",
              "  position: relative;\n",
              "}\n",
              "\n",
              "#sk-container-id-1 div.sk-text-repr-fallback {\n",
              "  display: none;\n",
              "}\n",
              "\n",
              "div.sk-parallel-item,\n",
              "div.sk-serial,\n",
              "div.sk-item {\n",
              "  /* draw centered vertical line to link estimators */\n",
              "  background-image: linear-gradient(var(--sklearn-color-text-on-default-background), var(--sklearn-color-text-on-default-background));\n",
              "  background-size: 2px 100%;\n",
              "  background-repeat: no-repeat;\n",
              "  background-position: center center;\n",
              "}\n",
              "\n",
              "/* Parallel-specific style estimator block */\n",
              "\n",
              "#sk-container-id-1 div.sk-parallel-item::after {\n",
              "  content: \"\";\n",
              "  width: 100%;\n",
              "  border-bottom: 2px solid var(--sklearn-color-text-on-default-background);\n",
              "  flex-grow: 1;\n",
              "}\n",
              "\n",
              "#sk-container-id-1 div.sk-parallel {\n",
              "  display: flex;\n",
              "  align-items: stretch;\n",
              "  justify-content: center;\n",
              "  background-color: var(--sklearn-color-background);\n",
              "  position: relative;\n",
              "}\n",
              "\n",
              "#sk-container-id-1 div.sk-parallel-item {\n",
              "  display: flex;\n",
              "  flex-direction: column;\n",
              "}\n",
              "\n",
              "#sk-container-id-1 div.sk-parallel-item:first-child::after {\n",
              "  align-self: flex-end;\n",
              "  width: 50%;\n",
              "}\n",
              "\n",
              "#sk-container-id-1 div.sk-parallel-item:last-child::after {\n",
              "  align-self: flex-start;\n",
              "  width: 50%;\n",
              "}\n",
              "\n",
              "#sk-container-id-1 div.sk-parallel-item:only-child::after {\n",
              "  width: 0;\n",
              "}\n",
              "\n",
              "/* Serial-specific style estimator block */\n",
              "\n",
              "#sk-container-id-1 div.sk-serial {\n",
              "  display: flex;\n",
              "  flex-direction: column;\n",
              "  align-items: center;\n",
              "  background-color: var(--sklearn-color-background);\n",
              "  padding-right: 1em;\n",
              "  padding-left: 1em;\n",
              "}\n",
              "\n",
              "\n",
              "/* Toggleable style: style used for estimator/Pipeline/ColumnTransformer box that is\n",
              "clickable and can be expanded/collapsed.\n",
              "- Pipeline and ColumnTransformer use this feature and define the default style\n",
              "- Estimators will overwrite some part of the style using the `sk-estimator` class\n",
              "*/\n",
              "\n",
              "/* Pipeline and ColumnTransformer style (default) */\n",
              "\n",
              "#sk-container-id-1 div.sk-toggleable {\n",
              "  /* Default theme specific background. It is overwritten whether we have a\n",
              "  specific estimator or a Pipeline/ColumnTransformer */\n",
              "  background-color: var(--sklearn-color-background);\n",
              "}\n",
              "\n",
              "/* Toggleable label */\n",
              "#sk-container-id-1 label.sk-toggleable__label {\n",
              "  cursor: pointer;\n",
              "  display: flex;\n",
              "  width: 100%;\n",
              "  margin-bottom: 0;\n",
              "  padding: 0.5em;\n",
              "  box-sizing: border-box;\n",
              "  text-align: center;\n",
              "  align-items: start;\n",
              "  justify-content: space-between;\n",
              "  gap: 0.5em;\n",
              "}\n",
              "\n",
              "#sk-container-id-1 label.sk-toggleable__label .caption {\n",
              "  font-size: 0.6rem;\n",
              "  font-weight: lighter;\n",
              "  color: var(--sklearn-color-text-muted);\n",
              "}\n",
              "\n",
              "#sk-container-id-1 label.sk-toggleable__label-arrow:before {\n",
              "  /* Arrow on the left of the label */\n",
              "  content: \"▸\";\n",
              "  float: left;\n",
              "  margin-right: 0.25em;\n",
              "  color: var(--sklearn-color-icon);\n",
              "}\n",
              "\n",
              "#sk-container-id-1 label.sk-toggleable__label-arrow:hover:before {\n",
              "  color: var(--sklearn-color-text);\n",
              "}\n",
              "\n",
              "/* Toggleable content - dropdown */\n",
              "\n",
              "#sk-container-id-1 div.sk-toggleable__content {\n",
              "  max-height: 0;\n",
              "  max-width: 0;\n",
              "  overflow: hidden;\n",
              "  text-align: left;\n",
              "  /* unfitted */\n",
              "  background-color: var(--sklearn-color-unfitted-level-0);\n",
              "}\n",
              "\n",
              "#sk-container-id-1 div.sk-toggleable__content.fitted {\n",
              "  /* fitted */\n",
              "  background-color: var(--sklearn-color-fitted-level-0);\n",
              "}\n",
              "\n",
              "#sk-container-id-1 div.sk-toggleable__content pre {\n",
              "  margin: 0.2em;\n",
              "  border-radius: 0.25em;\n",
              "  color: var(--sklearn-color-text);\n",
              "  /* unfitted */\n",
              "  background-color: var(--sklearn-color-unfitted-level-0);\n",
              "}\n",
              "\n",
              "#sk-container-id-1 div.sk-toggleable__content.fitted pre {\n",
              "  /* unfitted */\n",
              "  background-color: var(--sklearn-color-fitted-level-0);\n",
              "}\n",
              "\n",
              "#sk-container-id-1 input.sk-toggleable__control:checked~div.sk-toggleable__content {\n",
              "  /* Expand drop-down */\n",
              "  max-height: 200px;\n",
              "  max-width: 100%;\n",
              "  overflow: auto;\n",
              "}\n",
              "\n",
              "#sk-container-id-1 input.sk-toggleable__control:checked~label.sk-toggleable__label-arrow:before {\n",
              "  content: \"▾\";\n",
              "}\n",
              "\n",
              "/* Pipeline/ColumnTransformer-specific style */\n",
              "\n",
              "#sk-container-id-1 div.sk-label input.sk-toggleable__control:checked~label.sk-toggleable__label {\n",
              "  color: var(--sklearn-color-text);\n",
              "  background-color: var(--sklearn-color-unfitted-level-2);\n",
              "}\n",
              "\n",
              "#sk-container-id-1 div.sk-label.fitted input.sk-toggleable__control:checked~label.sk-toggleable__label {\n",
              "  background-color: var(--sklearn-color-fitted-level-2);\n",
              "}\n",
              "\n",
              "/* Estimator-specific style */\n",
              "\n",
              "/* Colorize estimator box */\n",
              "#sk-container-id-1 div.sk-estimator input.sk-toggleable__control:checked~label.sk-toggleable__label {\n",
              "  /* unfitted */\n",
              "  background-color: var(--sklearn-color-unfitted-level-2);\n",
              "}\n",
              "\n",
              "#sk-container-id-1 div.sk-estimator.fitted input.sk-toggleable__control:checked~label.sk-toggleable__label {\n",
              "  /* fitted */\n",
              "  background-color: var(--sklearn-color-fitted-level-2);\n",
              "}\n",
              "\n",
              "#sk-container-id-1 div.sk-label label.sk-toggleable__label,\n",
              "#sk-container-id-1 div.sk-label label {\n",
              "  /* The background is the default theme color */\n",
              "  color: var(--sklearn-color-text-on-default-background);\n",
              "}\n",
              "\n",
              "/* On hover, darken the color of the background */\n",
              "#sk-container-id-1 div.sk-label:hover label.sk-toggleable__label {\n",
              "  color: var(--sklearn-color-text);\n",
              "  background-color: var(--sklearn-color-unfitted-level-2);\n",
              "}\n",
              "\n",
              "/* Label box, darken color on hover, fitted */\n",
              "#sk-container-id-1 div.sk-label.fitted:hover label.sk-toggleable__label.fitted {\n",
              "  color: var(--sklearn-color-text);\n",
              "  background-color: var(--sklearn-color-fitted-level-2);\n",
              "}\n",
              "\n",
              "/* Estimator label */\n",
              "\n",
              "#sk-container-id-1 div.sk-label label {\n",
              "  font-family: monospace;\n",
              "  font-weight: bold;\n",
              "  display: inline-block;\n",
              "  line-height: 1.2em;\n",
              "}\n",
              "\n",
              "#sk-container-id-1 div.sk-label-container {\n",
              "  text-align: center;\n",
              "}\n",
              "\n",
              "/* Estimator-specific */\n",
              "#sk-container-id-1 div.sk-estimator {\n",
              "  font-family: monospace;\n",
              "  border: 1px dotted var(--sklearn-color-border-box);\n",
              "  border-radius: 0.25em;\n",
              "  box-sizing: border-box;\n",
              "  margin-bottom: 0.5em;\n",
              "  /* unfitted */\n",
              "  background-color: var(--sklearn-color-unfitted-level-0);\n",
              "}\n",
              "\n",
              "#sk-container-id-1 div.sk-estimator.fitted {\n",
              "  /* fitted */\n",
              "  background-color: var(--sklearn-color-fitted-level-0);\n",
              "}\n",
              "\n",
              "/* on hover */\n",
              "#sk-container-id-1 div.sk-estimator:hover {\n",
              "  /* unfitted */\n",
              "  background-color: var(--sklearn-color-unfitted-level-2);\n",
              "}\n",
              "\n",
              "#sk-container-id-1 div.sk-estimator.fitted:hover {\n",
              "  /* fitted */\n",
              "  background-color: var(--sklearn-color-fitted-level-2);\n",
              "}\n",
              "\n",
              "/* Specification for estimator info (e.g. \"i\" and \"?\") */\n",
              "\n",
              "/* Common style for \"i\" and \"?\" */\n",
              "\n",
              ".sk-estimator-doc-link,\n",
              "a:link.sk-estimator-doc-link,\n",
              "a:visited.sk-estimator-doc-link {\n",
              "  float: right;\n",
              "  font-size: smaller;\n",
              "  line-height: 1em;\n",
              "  font-family: monospace;\n",
              "  background-color: var(--sklearn-color-background);\n",
              "  border-radius: 1em;\n",
              "  height: 1em;\n",
              "  width: 1em;\n",
              "  text-decoration: none !important;\n",
              "  margin-left: 0.5em;\n",
              "  text-align: center;\n",
              "  /* unfitted */\n",
              "  border: var(--sklearn-color-unfitted-level-1) 1pt solid;\n",
              "  color: var(--sklearn-color-unfitted-level-1);\n",
              "}\n",
              "\n",
              ".sk-estimator-doc-link.fitted,\n",
              "a:link.sk-estimator-doc-link.fitted,\n",
              "a:visited.sk-estimator-doc-link.fitted {\n",
              "  /* fitted */\n",
              "  border: var(--sklearn-color-fitted-level-1) 1pt solid;\n",
              "  color: var(--sklearn-color-fitted-level-1);\n",
              "}\n",
              "\n",
              "/* On hover */\n",
              "div.sk-estimator:hover .sk-estimator-doc-link:hover,\n",
              ".sk-estimator-doc-link:hover,\n",
              "div.sk-label-container:hover .sk-estimator-doc-link:hover,\n",
              ".sk-estimator-doc-link:hover {\n",
              "  /* unfitted */\n",
              "  background-color: var(--sklearn-color-unfitted-level-3);\n",
              "  color: var(--sklearn-color-background);\n",
              "  text-decoration: none;\n",
              "}\n",
              "\n",
              "div.sk-estimator.fitted:hover .sk-estimator-doc-link.fitted:hover,\n",
              ".sk-estimator-doc-link.fitted:hover,\n",
              "div.sk-label-container:hover .sk-estimator-doc-link.fitted:hover,\n",
              ".sk-estimator-doc-link.fitted:hover {\n",
              "  /* fitted */\n",
              "  background-color: var(--sklearn-color-fitted-level-3);\n",
              "  color: var(--sklearn-color-background);\n",
              "  text-decoration: none;\n",
              "}\n",
              "\n",
              "/* Span, style for the box shown on hovering the info icon */\n",
              ".sk-estimator-doc-link span {\n",
              "  display: none;\n",
              "  z-index: 9999;\n",
              "  position: relative;\n",
              "  font-weight: normal;\n",
              "  right: .2ex;\n",
              "  padding: .5ex;\n",
              "  margin: .5ex;\n",
              "  width: min-content;\n",
              "  min-width: 20ex;\n",
              "  max-width: 50ex;\n",
              "  color: var(--sklearn-color-text);\n",
              "  box-shadow: 2pt 2pt 4pt #999;\n",
              "  /* unfitted */\n",
              "  background: var(--sklearn-color-unfitted-level-0);\n",
              "  border: .5pt solid var(--sklearn-color-unfitted-level-3);\n",
              "}\n",
              "\n",
              ".sk-estimator-doc-link.fitted span {\n",
              "  /* fitted */\n",
              "  background: var(--sklearn-color-fitted-level-0);\n",
              "  border: var(--sklearn-color-fitted-level-3);\n",
              "}\n",
              "\n",
              ".sk-estimator-doc-link:hover span {\n",
              "  display: block;\n",
              "}\n",
              "\n",
              "/* \"?\"-specific style due to the `<a>` HTML tag */\n",
              "\n",
              "#sk-container-id-1 a.estimator_doc_link {\n",
              "  float: right;\n",
              "  font-size: 1rem;\n",
              "  line-height: 1em;\n",
              "  font-family: monospace;\n",
              "  background-color: var(--sklearn-color-background);\n",
              "  border-radius: 1rem;\n",
              "  height: 1rem;\n",
              "  width: 1rem;\n",
              "  text-decoration: none;\n",
              "  /* unfitted */\n",
              "  color: var(--sklearn-color-unfitted-level-1);\n",
              "  border: var(--sklearn-color-unfitted-level-1) 1pt solid;\n",
              "}\n",
              "\n",
              "#sk-container-id-1 a.estimator_doc_link.fitted {\n",
              "  /* fitted */\n",
              "  border: var(--sklearn-color-fitted-level-1) 1pt solid;\n",
              "  color: var(--sklearn-color-fitted-level-1);\n",
              "}\n",
              "\n",
              "/* On hover */\n",
              "#sk-container-id-1 a.estimator_doc_link:hover {\n",
              "  /* unfitted */\n",
              "  background-color: var(--sklearn-color-unfitted-level-3);\n",
              "  color: var(--sklearn-color-background);\n",
              "  text-decoration: none;\n",
              "}\n",
              "\n",
              "#sk-container-id-1 a.estimator_doc_link.fitted:hover {\n",
              "  /* fitted */\n",
              "  background-color: var(--sklearn-color-fitted-level-3);\n",
              "}\n",
              "</style><div id=\"sk-container-id-1\" class=\"sk-top-container\"><div class=\"sk-text-repr-fallback\"><pre>RandomForestRegressor(random_state=42)</pre><b>In a Jupyter environment, please rerun this cell to show the HTML representation or trust the notebook. <br />On GitHub, the HTML representation is unable to render, please try loading this page with nbviewer.org.</b></div><div class=\"sk-container\" hidden><div class=\"sk-item\"><div class=\"sk-estimator fitted sk-toggleable\"><input class=\"sk-toggleable__control sk-hidden--visually\" id=\"sk-estimator-id-1\" type=\"checkbox\" checked><label for=\"sk-estimator-id-1\" class=\"sk-toggleable__label fitted sk-toggleable__label-arrow\"><div><div>RandomForestRegressor</div></div><div><a class=\"sk-estimator-doc-link fitted\" rel=\"noreferrer\" target=\"_blank\" href=\"https://scikit-learn.org/1.6/modules/generated/sklearn.ensemble.RandomForestRegressor.html\">?<span>Documentation for RandomForestRegressor</span></a><span class=\"sk-estimator-doc-link fitted\">i<span>Fitted</span></span></div></label><div class=\"sk-toggleable__content fitted\"><pre>RandomForestRegressor(random_state=42)</pre></div> </div></div></div></div>"
            ]
          },
          "metadata": {},
          "execution_count": 4
        }
      ]
    },
    {
      "cell_type": "markdown",
      "metadata": {
        "id": "0d09da2e"
      },
      "source": [
        "## Evaluate models\n",
        "\n",
        "### Subtask:\n",
        "Evaluate the trained models on the testing data using appropriate regression metrics (e.g., Mean Squared Error, R-squared).\n"
      ]
    },
    {
      "cell_type": "markdown",
      "metadata": {
        "id": "83c54907"
      },
      "source": [
        "**Reasoning**:\n",
        "Import necessary metrics for evaluation and then calculate and print the evaluation metrics for both trained models.\n",
        "\n"
      ]
    },
    {
      "cell_type": "code",
      "metadata": {
        "colab": {
          "base_uri": "https://localhost:8080/"
        },
        "id": "c68accda",
        "outputId": "d252cfb6-0435-4e08-aaed-0d896fcb8cf7"
      },
      "source": [
        "from sklearn.metrics import mean_squared_error, r2_score\n",
        "\n",
        "# Evaluate Linear Regression model\n",
        "linear_reg_predictions = linear_reg_model.predict(X_test)\n",
        "linear_reg_mse = mean_squared_error(y_test, linear_reg_predictions)\n",
        "linear_reg_r2 = r2_score(y_test, linear_reg_predictions)\n",
        "\n",
        "print(f\"Linear Regression - Mean Squared Error: {linear_reg_mse:.2f}\")\n",
        "print(f\"Linear Regression - R-squared: {linear_reg_r2:.2f}\")\n",
        "\n",
        "# Evaluate Random Forest model\n",
        "rf_predictions = rf_model.predict(X_test)\n",
        "rf_mse = mean_squared_error(y_test, rf_predictions)\n",
        "rf_r2 = r2_score(y_test, rf_predictions)\n",
        "\n",
        "print(f\"Random Forest - Mean Squared Error: {rf_mse:.2f}\")\n",
        "print(f\"Random Forest - R-squared: {rf_r2:.2f}\")"
      ],
      "execution_count": 5,
      "outputs": [
        {
          "output_type": "stream",
          "name": "stdout",
          "text": [
            "Linear Regression - Mean Squared Error: 24.29\n",
            "Linear Regression - R-squared: 0.67\n",
            "Random Forest - Mean Squared Error: 7.90\n",
            "Random Forest - R-squared: 0.89\n"
          ]
        }
      ]
    },
    {
      "cell_type": "markdown",
      "metadata": {
        "id": "47a81f70"
      },
      "source": [
        "## Compare models\n",
        "\n",
        "### Subtask:\n",
        "Compare the performance of the Linear Regression and Random Forest models.\n"
      ]
    },
    {
      "cell_type": "markdown",
      "metadata": {
        "id": "a17ace40"
      },
      "source": [
        "**Reasoning**:\n",
        "Compare the MSE and R-squared values and determine which model performed better, explaining the potential reasons.\n",
        "\n"
      ]
    },
    {
      "cell_type": "code",
      "metadata": {
        "colab": {
          "base_uri": "https://localhost:8080/"
        },
        "id": "440e71df",
        "outputId": "1d0f8188-7a17-448c-820d-e554b08ee44c"
      },
      "source": [
        "print(\"\\n--- Model Comparison ---\")\n",
        "print(f\"Linear Regression MSE: {linear_reg_mse:.2f}, R-squared: {linear_reg_r2:.2f}\")\n",
        "print(f\"Random Forest MSE: {rf_mse:.2f}, R-squared: {rf_r2:.2f}\")\n",
        "\n",
        "print(\"\\n--- Performance Analysis ---\")\n",
        "if rf_mse < linear_reg_mse and rf_r2 > linear_reg_r2:\n",
        "    print(\"The Random Forest model performed better than the Linear Regression model.\")\n",
        "    print(\"This is likely because Random Forest, an ensemble of decision trees, can capture non-linear relationships and interactions between features in the data more effectively than a simple linear model.\")\n",
        "elif linear_reg_mse < rf_mse and linear_reg_r2 > rf_r2:\n",
        "     print(\"The Linear Regression model performed better than the Random Forest model.\")\n",
        "     print(\"This suggests that the relationship between the features and the target variable is predominantly linear, and the added complexity of the Random Forest model did not improve performance.\")\n",
        "else:\n",
        "    print(\"The performance comparison between the Linear Regression and Random Forest models is inconclusive based on the MSE and R-squared values.\")\n"
      ],
      "execution_count": 6,
      "outputs": [
        {
          "output_type": "stream",
          "name": "stdout",
          "text": [
            "\n",
            "--- Model Comparison ---\n",
            "Linear Regression MSE: 24.29, R-squared: 0.67\n",
            "Random Forest MSE: 7.90, R-squared: 0.89\n",
            "\n",
            "--- Performance Analysis ---\n",
            "The Random Forest model performed better than the Linear Regression model.\n",
            "This is likely because Random Forest, an ensemble of decision trees, can capture non-linear relationships and interactions between features in the data more effectively than a simple linear model.\n"
          ]
        }
      ]
    },
    {
      "cell_type": "markdown",
      "metadata": {
        "id": "31dd888d"
      },
      "source": [
        "## Predict\n",
        "\n",
        "### Subtask:\n",
        "Use the better-performing model to make predictions on new data (if available) or on a sample of the testing data to demonstrate.\n"
      ]
    },
    {
      "cell_type": "markdown",
      "metadata": {
        "id": "88f7093b"
      },
      "source": [
        "**Reasoning**:\n",
        "Select a small sample of the testing data and use the better-performing model (Random Forest) to make predictions on this sample. Then, print the actual and predicted values for comparison.\n",
        "\n"
      ]
    },
    {
      "cell_type": "code",
      "metadata": {
        "colab": {
          "base_uri": "https://localhost:8080/"
        },
        "id": "2cbc5d47",
        "outputId": "9e2307bb-6e3e-404c-8d41-4ecfe98c0c68"
      },
      "source": [
        "# Select a small sample of the testing data\n",
        "sample_size = 10\n",
        "X_sample = X_test[:sample_size]\n",
        "y_sample = y_test[:sample_size]\n",
        "\n",
        "# Make predictions using the better-performing model (Random Forest)\n",
        "sample_predictions = rf_model.predict(X_sample)\n",
        "\n",
        "# Print actual and predicted values\n",
        "print(\"Actual vs. Predicted House Prices (Sample of Test Data):\")\n",
        "for actual, predicted in zip(y_sample, sample_predictions):\n",
        "    print(f\"Actual: {actual:.2f}, Predicted: {predicted:.2f}\")"
      ],
      "execution_count": 7,
      "outputs": [
        {
          "output_type": "stream",
          "name": "stdout",
          "text": [
            "Actual vs. Predicted House Prices (Sample of Test Data):\n",
            "Actual: 23.60, Predicted: 22.84\n",
            "Actual: 32.40, Predicted: 30.68\n",
            "Actual: 13.60, Predicted: 16.32\n",
            "Actual: 22.80, Predicted: 23.51\n",
            "Actual: 16.10, Predicted: 16.82\n",
            "Actual: 20.00, Predicted: 21.37\n",
            "Actual: 17.80, Predicted: 19.36\n",
            "Actual: 14.00, Predicted: 15.62\n",
            "Actual: 19.60, Predicted: 21.09\n",
            "Actual: 16.80, Predicted: 21.07\n"
          ]
        }
      ]
    },
    {
      "cell_type": "markdown",
      "metadata": {
        "id": "abab0874"
      },
      "source": [
        "## Summarize\n",
        "\n",
        "### Subtask:\n",
        "Summarize the results and findings.\n"
      ]
    },
    {
      "cell_type": "markdown",
      "metadata": {
        "id": "a702aaca"
      },
      "source": [
        "**Reasoning**:\n",
        "Generate a summary of the entire process, including data loading, model training, evaluation, comparison, and prediction, based on the previous subtasks' results and the provided instructions.\n",
        "\n"
      ]
    },
    {
      "cell_type": "code",
      "metadata": {
        "colab": {
          "base_uri": "https://localhost:8080/"
        },
        "id": "5f4ef5c0",
        "outputId": "92060bbe-2b7b-4cfe-ad03-dffef60ea55c"
      },
      "source": [
        "summary = \"\"\"\n",
        "Summary of Boston Housing Price Prediction Project\n",
        "\n",
        "This project aimed to predict house prices using the Boston Housing Dataset and compare the performance of two common regression models: Linear Regression and Random Forest.\n",
        "\n",
        "1.  **Data Loading:** The Boston Housing Dataset was loaded using an alternative method since the original scikit-learn function is deprecated. The dataset contains features describing various aspects of residential homes in the Boston area and the target variable, which is the median value of owner-occupied homes.\n",
        "\n",
        "2.  **Data Preprocessing:** The dataset was split into training and testing sets to prepare for model training and evaluation. 80% of the data was used for training and 20% for testing.\n",
        "\n",
        "3.  **Model Training:** Two regression models, Linear Regression and Random Forest, were trained on the training data.\n",
        "\n",
        "4.  **Model Evaluation:** The trained models were evaluated on the testing data using Mean Squared Error (MSE) and R-squared (R2) metrics.\n",
        "    - Linear Regression MSE: {linear_reg_mse:.2f}, R-squared: {linear_reg_r2:.2f}\n",
        "    - Random Forest MSE: {rf_mse:.2f}, R-squared: {rf_r2:.2f}\n",
        "\n",
        "5.  **Model Comparison:** Comparing the evaluation metrics, the Random Forest model significantly outperformed the Linear Regression model. It achieved a much lower Mean Squared Error and a higher R-squared value, indicating that it made more accurate predictions and explained a larger proportion of the variance in the house prices. This superior performance is likely due to the Random Forest model's ability to capture complex, non-linear relationships within the data, which a simple linear model cannot.\n",
        "\n",
        "6.  **Prediction:** The better-performing model, Random Forest, was used to predict house prices on a sample of the test data to demonstrate its predictive capability. The predictions for the sample were reasonably close to the actual house prices.\n",
        "\n",
        "**Key Takeaway:** For this specific task of predicting house prices using the Boston Housing Dataset, the Random Forest model proved to be a more effective choice than Linear Regression, demonstrating better performance based on standard regression evaluation metrics.\n",
        "\"\"\".format(linear_reg_mse=linear_reg_mse, linear_reg_r2=linear_reg_r2, rf_mse=rf_mse, rf_r2=rf_r2)\n",
        "\n",
        "print(summary)"
      ],
      "execution_count": 8,
      "outputs": [
        {
          "output_type": "stream",
          "name": "stdout",
          "text": [
            "\n",
            "Summary of Boston Housing Price Prediction Project\n",
            "\n",
            "This project aimed to predict house prices using the Boston Housing Dataset and compare the performance of two common regression models: Linear Regression and Random Forest.\n",
            "\n",
            "1.  **Data Loading:** The Boston Housing Dataset was loaded using an alternative method since the original scikit-learn function is deprecated. The dataset contains features describing various aspects of residential homes in the Boston area and the target variable, which is the median value of owner-occupied homes.\n",
            "\n",
            "2.  **Data Preprocessing:** The dataset was split into training and testing sets to prepare for model training and evaluation. 80% of the data was used for training and 20% for testing.\n",
            "\n",
            "3.  **Model Training:** Two regression models, Linear Regression and Random Forest, were trained on the training data.\n",
            "\n",
            "4.  **Model Evaluation:** The trained models were evaluated on the testing data using Mean Squared Error (MSE) and R-squared (R2) metrics.\n",
            "    - Linear Regression MSE: 24.29, R-squared: 0.67\n",
            "    - Random Forest MSE: 7.90, R-squared: 0.89\n",
            "\n",
            "5.  **Model Comparison:** Comparing the evaluation metrics, the Random Forest model significantly outperformed the Linear Regression model. It achieved a much lower Mean Squared Error and a higher R-squared value, indicating that it made more accurate predictions and explained a larger proportion of the variance in the house prices. This superior performance is likely due to the Random Forest model's ability to capture complex, non-linear relationships within the data, which a simple linear model cannot.\n",
            "\n",
            "6.  **Prediction:** The better-performing model, Random Forest, was used to predict house prices on a sample of the test data to demonstrate its predictive capability. The predictions for the sample were reasonably close to the actual house prices.\n",
            "\n",
            "**Key Takeaway:** For this specific task of predicting house prices using the Boston Housing Dataset, the Random Forest model proved to be a more effective choice than Linear Regression, demonstrating better performance based on standard regression evaluation metrics.\n",
            "\n"
          ]
        }
      ]
    },
    {
      "cell_type": "markdown",
      "metadata": {
        "id": "2a1bc469"
      },
      "source": [
        "## Summary:\n",
        "\n",
        "### Data Analysis Key Findings\n",
        "*   The Linear Regression model achieved a Mean Squared Error (MSE) of 24.29 and an R-squared score of 0.67 on the testing data.\n",
        "*   The Random Forest model achieved a Mean Squared Error of 7.90 and an R-squared score of 0.89 on the testing data.\n",
        "*   The Random Forest model significantly outperformed the Linear Regression model in predicting house prices on the test set, exhibiting a lower MSE and a higher R-squared score.\n",
        "\n",
        "### Insights or Next Steps\n",
        "*   The Random Forest model's superior performance suggests that the relationship between the features and house prices in the Boston Housing Dataset is likely non-linear, which ensemble methods like Random Forest can capture effectively.\n",
        "*   Further analysis could involve tuning the hyperparameters of the Random Forest model to potentially improve its performance even further or exploring other advanced regression techniques.\n"
      ]
    },
    {
      "cell_type": "markdown",
      "metadata": {
        "id": "0ba132ed"
      },
      "source": [
        "# Task\n",
        "Visualize the performance of Linear Regression and Random Forest models trained on the Boston Housing Dataset for house price prediction."
      ]
    },
    {
      "cell_type": "markdown",
      "metadata": {
        "id": "9044a117"
      },
      "source": [
        "## Visualize model performance\n",
        "\n",
        "### Subtask:\n",
        "Create visualizations to compare the performance of the models.\n"
      ]
    },
    {
      "cell_type": "markdown",
      "metadata": {
        "id": "aba9fb3a"
      },
      "source": [
        "**Reasoning**:\n",
        "Create scatter plots to visualize the actual vs. predicted prices for both models and bar charts to compare their evaluation metrics (MSE and R2).\n",
        "\n"
      ]
    },
    {
      "cell_type": "code",
      "metadata": {
        "colab": {
          "base_uri": "https://localhost:8080/",
          "height": 1000
        },
        "id": "816b3d36",
        "outputId": "c02ddf9c-69bb-4691-a8a0-0fea84b959f6"
      },
      "source": [
        "import matplotlib.pyplot as plt\n",
        "\n",
        "# Scatter plot for Linear Regression\n",
        "plt.figure(figsize=(10, 6))\n",
        "plt.scatter(y_test, linear_reg_predictions, alpha=0.5)\n",
        "plt.plot([y_test.min(), y_test.max()], [y_test.min(), y_test.max()], 'k--', lw=2) # Diagonal line\n",
        "plt.xlabel(\"Actual Prices\")\n",
        "plt.ylabel(\"Linear Regression Predictions\")\n",
        "plt.title(\"Linear Regression: Actual vs. Predicted Prices\")\n",
        "plt.grid(True)\n",
        "plt.show()\n",
        "\n",
        "# Scatter plot for Random Forest\n",
        "plt.figure(figsize=(10, 6))\n",
        "plt.scatter(y_test, rf_predictions, alpha=0.5, color='green')\n",
        "plt.plot([y_test.min(), y_test.max()], [y_test.min(), y_test.max()], 'k--', lw=2) # Diagonal line\n",
        "plt.xlabel(\"Actual Prices\")\n",
        "plt.ylabel(\"Random Forest Predictions\")\n",
        "plt.title(\"Random Forest: Actual vs. Predicted Prices\")\n",
        "plt.grid(True)\n",
        "plt.show()\n",
        "\n",
        "# Bar chart for MSE comparison\n",
        "models = ['Linear Regression', 'Random Forest']\n",
        "mse_values = [linear_reg_mse, rf_mse]\n",
        "\n",
        "plt.figure(figsize=(8, 5))\n",
        "plt.bar(models, mse_values, color=['blue', 'green'])\n",
        "plt.ylabel(\"Mean Squared Error\")\n",
        "plt.title(\"Model Comparison: Mean Squared Error\")\n",
        "plt.ylim(0, max(mse_values) * 1.2) # Adjust y-axis limit for better visualization\n",
        "plt.show()\n",
        "\n",
        "# Bar chart for R-squared comparison\n",
        "r2_values = [linear_reg_r2, rf_r2]\n",
        "\n",
        "plt.figure(figsize=(8, 5))\n",
        "plt.bar(models, r2_values, color=['blue', 'green'])\n",
        "plt.ylabel(\"R-squared\")\n",
        "plt.title(\"Model Comparison: R-squared\")\n",
        "plt.ylim(0, 1) # R-squared is typically between 0 and 1\n",
        "plt.show()"
      ],
      "execution_count": 9,
      "outputs": [
        {
          "output_type": "display_data",
          "data": {
            "text/plain": [
              "<Figure size 1000x600 with 1 Axes>"
            ],
            "image/png": "[encoded data removed]"
          },
          "metadata": {}
        },
        {
          "output_type": "display_data",
          "data": {
            "text/plain": [
              "<Figure size 1000x600 with 1 Axes>"
            ],
            "image/png": "[encoded data removed]"
          },
          "metadata": {}
        },
        {
          "output_type": "display_data",
          "data": {
            "text/plain": [
              "<Figure size 800x500 with 1 Axes>"
            ],
            "image/png": "[encoded data removed]"
          },
          "metadata": {}
        },
        {
          "output_type": "display_data",
          "data": {
            "text/plain": [
              "<Figure size 800x500 with 1 Axes>"
            ],
            "image/png": "[encoded data removed]"
          },
          "metadata": {}
        }
      ]
    },
    {
      "cell_type": "markdown",
      "metadata": {
        "id": "2b93bb4a"
      },
      "source": [
        "## Summary:\n",
        "\n",
        "### Data Analysis Key Findings\n",
        "\n",
        "*   The solving process generated scatter plots comparing actual versus predicted prices for both Linear Regression and Random Forest models, along with bar charts comparing their Mean Squared Error (MSE) and R-squared (\\$R^2\\$) values.\n",
        "*   The visualizations facilitate a comparison of the performance of the two models in predicting house prices on the Boston Housing Dataset.\n",
        "\n",
        "### Insights or Next Steps\n",
        "\n",
        "*   Analyze the scatter plots to visually assess the spread of predictions around the ideal diagonal line for each model.\n",
        "*   Examine the bar charts to quantitatively compare the MSE and \\$R^2\\$ values to determine which model performed better based on these metrics.\n"
      ]
    },
    {
      "cell_type": "markdown",
      "metadata": {
        "id": "3679e136"
      },
      "source": [
        "# Task\n",
        "Analyze the Boston Housing Dataset to predict house prices using Linear Regression and Random Forest models, including data loading, preprocessing, model training, evaluation, visualization of model performance, comparison of models, prediction, and generation of a README file summarizing the project and findings with visualizations."
      ]
    },
    {
      "cell_type": "markdown",
      "metadata": {
        "id": "27d7c33c"
      },
      "source": [
        "## Compare models\n",
        "\n",
        "### Subtask:\n",
        "Compare the performance of the Linear Regression and Random Forest models based on the evaluation metrics and visualizations.\n"
      ]
    },
    {
      "cell_type": "markdown",
      "metadata": {
        "id": "f70202c3"
      },
      "source": [
        "**Reasoning**:\n",
        "Generate a markdown summary comparing the models based on the metrics and visualizations.\n",
        "\n"
      ]
    },
    {
      "cell_type": "code",
      "metadata": {
        "colab": {
          "base_uri": "https://localhost:8080/"
        },
        "id": "ee86e153",
        "outputId": "4f61f1ae-3c25-4eea-d3a2-675a82a1cd4f"
      },
      "source": [
        "comparison_summary = f\"\"\"\n",
        "### Model Performance Comparison\n",
        "\n",
        "Based on the evaluation metrics and visualizations, the Random Forest model significantly outperformed the Linear Regression model in predicting house prices on the Boston Housing Dataset.\n",
        "\n",
        "*   **Evaluation Metrics:**\n",
        "    *   **Mean Squared Error (MSE):** The Random Forest model achieved a substantially lower MSE ({rf_mse:.2f}) compared to the Linear Regression model ({linear_reg_mse:.2f}). A lower MSE indicates that the Random Forest model's predictions were closer to the actual house prices on average.\n",
        "    *   **R-squared (\\$R^2\\$):** The Random Forest model had a much higher R-squared value ({rf_r2:.2f}) than the Linear Regression model ({linear_reg_r2:.2f}). The R-squared value represents the proportion of the variance in the dependent variable (house prices) that is predictable from the independent variables (features). A higher R-squared indicates a better fit of the model to the data, meaning the Random Forest model explained a larger percentage of the variability in house prices.\n",
        "\n",
        "*   **Visualizations:**\n",
        "    *   **Scatter Plots (Actual vs. Predicted Prices):** The scatter plot for the Random Forest model shows the predicted values clustered more tightly around the diagonal line (representing perfect prediction) compared to the scatter plot for the Linear Regression model. This visually confirms that the Random Forest predictions were more accurate and less spread out from the actual values.\n",
        "    *   **Bar Charts (MSE and R-squared):** The bar chart for MSE clearly shows a much shorter bar for the Random Forest model, illustrating its lower error. Similarly, the bar chart for R-squared shows a taller bar for the Random Forest model, highlighting its higher explanatory power. These charts provide a clear visual representation of the superior performance of the Random Forest model.\n",
        "\n",
        "*   **Reason for Performance Difference:** The likely reason for the Random Forest model's better performance is its ability to capture non-linear relationships and interactions between the features. Linear Regression assumes a linear relationship between the features and the target variable. House prices are often influenced by complex interactions between various factors (e.g., the combined effect of location and size), which a non-linear model like Random Forest, an ensemble of decision trees, can model more effectively.\n",
        "\"\"\"\n",
        "\n",
        "print(comparison_summary)"
      ],
      "execution_count": 10,
      "outputs": [
        {
          "output_type": "stream",
          "name": "stdout",
          "text": [
            "\n",
            "### Model Performance Comparison\n",
            "\n",
            "Based on the evaluation metrics and visualizations, the Random Forest model significantly outperformed the Linear Regression model in predicting house prices on the Boston Housing Dataset.\n",
            "\n",
            "*   **Evaluation Metrics:**\n",
            "    *   **Mean Squared Error (MSE):** The Random Forest model achieved a substantially lower MSE (7.90) compared to the Linear Regression model (24.29). A lower MSE indicates that the Random Forest model's predictions were closer to the actual house prices on average.\n",
            "    *   **R-squared (\\$R^2\\$):** The Random Forest model had a much higher R-squared value (0.89) than the Linear Regression model (0.67). The R-squared value represents the proportion of the variance in the dependent variable (house prices) that is predictable from the independent variables (features). A higher R-squared indicates a better fit of the model to the data, meaning the Random Forest model explained a larger percentage of the variability in house prices.\n",
            "\n",
            "*   **Visualizations:**\n",
            "    *   **Scatter Plots (Actual vs. Predicted Prices):** The scatter plot for the Random Forest model shows the predicted values clustered more tightly around the diagonal line (representing perfect prediction) compared to the scatter plot for the Linear Regression model. This visually confirms that the Random Forest predictions were more accurate and less spread out from the actual values.\n",
            "    *   **Bar Charts (MSE and R-squared):** The bar chart for MSE clearly shows a much shorter bar for the Random Forest model, illustrating its lower error. Similarly, the bar chart for R-squared shows a taller bar for the Random Forest model, highlighting its higher explanatory power. These charts provide a clear visual representation of the superior performance of the Random Forest model.\n",
            "\n",
            "*   **Reason for Performance Difference:** The likely reason for the Random Forest model's better performance is its ability to capture non-linear relationships and interactions between the features. Linear Regression assumes a linear relationship between the features and the target variable. House prices are often influenced by complex interactions between various factors (e.g., the combined effect of location and size), which a non-linear model like Random Forest, an ensemble of decision trees, can model more effectively.\n",
            "\n"
          ]
        }
      ]
    },
    {
      "cell_type": "markdown",
      "metadata": {
        "id": "78f589cd"
      },
      "source": [
        "## Summary:\n",
        "\n",
        "### Data Analysis Key Findings\n",
        "\n",
        "*   The Random Forest model significantly outperformed the Linear Regression model in predicting house prices.\n",
        "*   The Random Forest model achieved a Mean Squared Error (MSE) of 7.90, substantially lower than the Linear Regression model's MSE of 24.29.\n",
        "*   The Random Forest model had an R-squared (\\$R^2\\$) value of 0.89, which is significantly higher than the Linear Regression model's \\$R^2\\$ of 0.67, indicating it explains a larger proportion of the variance in house prices.\n",
        "\n",
        "### Insights or Next Steps\n",
        "\n",
        "*   The Random Forest model's superior performance is likely due to its ability to capture non-linear relationships and interactions between features, which are common in real-world housing data.\n",
        "*   Future work could involve hyperparameter tuning of the Random Forest model or exploring other non-linear models to potentially further improve prediction accuracy.\n"
      ]
    },
    {
      "cell_type": "markdown",
      "metadata": {
        "id": "d2741604"
      },
      "source": [
        "# Boston Housing Price Prediction\n",
        "\n",
        "This project demonstrates the process of predicting house prices using the Boston Housing Dataset and comparing the performance of Linear Regression and Random Forest models.\n",
        "\n",
        "## Project Overview\n",
        "\n",
        "The goal of this project was to build and evaluate regression models to predict house prices based on various features of residential homes in the Boston area. Two models, Linear Regression and Random Forest, were trained and their performance was compared using standard regression metrics and visualizations.\n",
        "\n",
        "## Dataset\n",
        "\n",
        "The Boston Housing Dataset, loaded using an alternative method due to the deprecation of the original scikit-learn function, contains information on various features such as crime rate, zoning, industrial proportion, proximity to the Charles River, nitric oxides concentration, number of rooms, age of the property, distance to employment centers, accessibility to highways, property tax rate, pupil-teacher ratio, and lower status of the population. The target variable is the median value of owner-occupied homes.\n",
        "\n",
        "## Methodology\n",
        "\n",
        "1.  **Data Loading:** The dataset was loaded into a pandas DataFrame.\n",
        "2.  **Data Preprocessing:** The data was split into training and testing sets (80% training, 20% testing).\n",
        "3.  **Model Training:** Linear Regression and Random Forest models were trained on the training data.\n",
        "4.  **Model Evaluation:** The models were evaluated using Mean Squared Error (MSE) and R-squared (\\$R^2\\$) on the testing data.\n",
        "5.  **Model Comparison:** The performance of the models was compared based on the evaluation metrics and visualizations.\n",
        "6.  **Prediction:** The better-performing model (Random Forest) was used to make predictions on a sample of the testing data.\n",
        "7.  **Summarization:** A summary of the findings was generated.\n",
        "\n",
        "## Results\n",
        "\n",
        "The evaluation metrics and visualizations clearly indicate that the Random Forest model significantly outperformed the Linear Regression model in predicting house prices.\n",
        "\n",
        "### Model Performance Metrics\n",
        "\n",
        "*   **Linear Regression:**\n",
        "    *   Mean Squared Error (MSE): {linear_reg_mse:.2f}\n",
        "    *   R-squared (\\$R^2\\$): {linear_reg_r2:.2f}\n",
        "\n",
        "*   **Random Forest:**\n",
        "    *   Mean Squared Error (MSE): {rf_mse:.2f}\n",
        "    *   R-squared (\\$R^2\\$): {rf_r2:.2f}\n",
        "\n",
        "### Visualizations\n",
        "\n",
        "The following visualizations illustrate the performance comparison:\n",
        "\n",
        "**Linear Regression: Actual vs. Predicted Prices**\n",
        "\n",
        "<p align=\"center\">\n",
        "<img src=\"attachment:linear_regression_scatter.png\" alt=\"Linear Regression Scatter Plot\">\n",
        "</p>\n",
        "\n",
        "**Random Forest: Actual vs. Predicted Prices**\n",
        "\n",
        "<p align=\"center\">\n",
        "<img src=\"attachment:random_forest_scatter.png\" alt=\"Random Forest Scatter Plot\">\n",
        "</p>\n",
        "\n",
        "**Model Comparison: Mean Squared Error**\n",
        "\n",
        "<p align=\"center\">\n",
        "<img src=\"attachment:mse_bar_chart.png\" alt=\"MSE Bar Chart\">\n",
        "</p>\n",
        "\n",
        "**Model Comparison: R-squared**\n",
        "\n",
        "<p align=\"center\">\n",
        "<img src=\"attachment:r2_bar_chart.png\" alt=\"R-squared Bar Chart\">\n",
        "</p>\n",
        "\n",
        "*Note: The images above are placeholders. In a real README, you would include the actual image files generated from the code.*\n",
        "\n",
        "## Conclusion\n",
        "\n",
        "The Random Forest model proved to be a more effective approach for predicting house prices on the Boston Housing Dataset compared to Linear Regression. Its ability to capture non-linear relationships in the data resulted in significantly lower prediction errors and a better fit to the data. Further improvements could potentially be achieved by hyperparameter tuning the Random Forest model or exploring other advanced regression techniques.\n",
        "\"\"\".format(linear_reg_mse=linear_reg_mse, linear_reg_r2=linear_reg_r2, rf_mse=rf_mse, rf_r2=rf_r2)\n",
        "\n",
        "print(summary)"
      ]
    }
  ]
}